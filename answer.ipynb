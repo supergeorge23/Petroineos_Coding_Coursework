{
 "cells": [
  {
   "cell_type": "markdown",
   "source": [
    "# Project Summary\n",
    "This project centers around the SymbolsUpdate class, which manages financial symbol data through a series of CSV files using a Python-based Jupyter notebook, answer.ipynb. The class comprises three primary functions:\n",
    "\n",
    "`load_new_data_from_file`: Loads and processes data from symbols_update_n.csv files.\n",
    "`save_new_data`: Appends processed data to database.csv.\n",
    "`get_data_from_database`: Retrieves the most recent updates for each symbol from database.csv.\n",
    "## Requirements: Implementations require the pandas library.\n",
    "## Deployment: Complete solutions should be uploaded to a public GitHub repository."
   ],
   "metadata": {
    "collapsed": false
   },
   "id": "254ff168b0ba2ded"
  },
  {
   "cell_type": "markdown",
   "source": [
    "# Code Presentation: "
   ],
   "metadata": {
    "collapsed": false
   },
   "id": "2de99b56dcb61f91"
  },
  {
   "cell_type": "code",
   "execution_count": 1,
   "outputs": [],
   "source": [
    "import pandas as pd\n",
    "from datetime import datetime\n",
    "import os\n",
    "\n",
    "class SymbolsUpdate(object):\n",
    "    def __init__(self ):\n",
    "        self.database_file = 'database.csv'    \n",
    "    \n",
    "    def load_new_data_from_file(self, file_path: str):\n",
    "        try:\n",
    "            data = pd.read_csv(file_path)\n",
    "        except Exception as e:\n",
    "            print(f\"Failed to read the file: {e}\")\n",
    "            return pd.DataFrame(columns=[\"symbol\", \"hold\", \"country\", \"item\", \"item_value\", \"updatedby\", \"updatetime\"])\n",
    "        current_time = datetime.now().strftime(\"%Y-%m-%d %H:%M:%S.%f\")\n",
    "        processed_data = pd.DataFrame(columns=[\"symbol\", \"hold\", \"country\", \"item\", \"item_value\", \"updatedby\", \"updatetime\"])\n",
    "        country_map = {\n",
    "            'US': 'US',\n",
    "            'GB': 'Great Britain',\n",
    "            'BE': 'Belgium',\n",
    "            'IT': 'Italy'\n",
    "        }\n",
    "        for index, row in data.iterrows():\n",
    "            country_code = row.get('isin', '')[:2]\n",
    "            country_full = country_map.get(country_code, pd.NA if country_code else pd.NA)\n",
    "            entries = [\n",
    "                {\"symbol\": row.get('symbol', pd.NA), \"hold\": row.get('hold', pd.NA),\n",
    "                 \"country\": country_full, \"item\": \"cusip\", \"item_value\": row.get('cusip', pd.NA),\n",
    "                 \"updatedby\": \"petroineos\", \"updatetime\": current_time},\n",
    "                {\"symbol\": row.get('symbol', pd.NA), \"hold\": row.get('hold', pd.NA),\n",
    "                 \"country\": country_full, \"item\": \"isin\", \"item_value\": row.get('isin', pd.NA),\n",
    "                 \"updatedby\": \"petroineos\", \"updatetime\": current_time}\n",
    "            ]\n",
    "            for entry in entries:\n",
    "                processed_data = processed_data.append(entry, ignore_index=True)\n",
    "        return processed_data\n",
    "    \n",
    "    \n",
    "    def save_new_data(self, input_data: pd.DataFrame):\n",
    "        try:\n",
    "            header_flag = not os.path.exists(self.database_file) or os.path.getsize(self.database_file) == 0\n",
    "        except Exception as e:\n",
    "            print(f\"Error checking file existence or size: {e}\")\n",
    "            return\n",
    "        try:\n",
    "            input_data.to_csv(self.database_file, mode='a', header=header_flag, index=False)\n",
    "        except Exception as e:\n",
    "            print(f\"Failed to write to the file: {e}\")\n",
    "            return\n",
    "    \n",
    "    \n",
    "    def get_data_from_database(self):\n",
    "        try:\n",
    "            data = pd.read_csv(self.database_file)\n",
    "            data['updatetime'] = pd.to_datetime(data['updatetime'])\n",
    "            data.sort_values('updatetime', ascending=False, inplace=True)\n",
    "            latest_data = data.drop_duplicates(subset=['symbol', 'item', 'item_value'], keep='first')\n",
    "            latest_data.sort_values(by='symbol', inplace=True)\n",
    "            latest_data.reset_index(drop=True, inplace=True)\n",
    "            return latest_data\n",
    "        except FileNotFoundError:\n",
    "            return pd.DataFrame(columns=['symbol', 'hold', 'country', 'item', 'item_value', 'updatedby', 'updatetime'])\n",
    "\n",
    "    \n",
    "    def display_database_contents(self):\n",
    "        pd.set_option('display.max_columns', None)\n",
    "        pd.set_option('display.width', None)\n",
    "        pd.set_option('display.max_colwidth', None)\n",
    "        data = pd.read_csv(self.database_file)\n",
    "        print(data)\n",
    "    "
   ],
   "metadata": {
    "collapsed": false,
    "ExecuteTime": {
     "end_time": "2024-05-16T13:28:31.355537Z",
     "start_time": "2024-05-16T13:28:31.130298Z"
    }
   },
   "id": "f73d0d2105ae933d"
  },
  {
   "cell_type": "markdown",
   "source": [
    "Running the model should return the following table:"
   ],
   "metadata": {
    "collapsed": false
   },
   "id": "d7275ad261eb341b"
  },
  {
   "cell_type": "code",
   "execution_count": 2,
   "outputs": [
    {
     "name": "stdout",
     "output_type": "stream",
     "text": [
      "  symbol  hold        country   item   item_value   updatedby  \\\n",
      "0   AAAA     0             US   isin   US01222911  petroineos   \n",
      "1   AAAA     0             US  cusip       A234AC  petroineos   \n",
      "2   BBBB     1  Great Britain   isin   GB12222201  petroineos   \n",
      "3   BBBB     1  Great Britain  cusip       123998  petroineos   \n",
      "4   CCCC     1             US   isin   US01239811  petroineos   \n",
      "5   CCCC     1             US  cusip      G129111  petroineos   \n",
      "6   DDDD     1          Italy  cusip        78321  petroineos   \n",
      "7   DDDD     1          Italy   isin   IT92812323  petroineos   \n",
      "8   GGGG     1        Belgium   isin  BE012568156  petroineos   \n",
      "9   GGGG     1        Belgium  cusip     B54334AC  petroineos   \n",
      "\n",
      "                  updatetime  \n",
      "0 2024-05-16 09:28:34.069778  \n",
      "1 2024-05-16 09:28:34.069778  \n",
      "2 2024-05-16 09:28:34.066153  \n",
      "3 2024-05-16 09:28:34.066153  \n",
      "4 2024-05-16 09:28:34.066153  \n",
      "5 2024-05-16 09:28:34.066153  \n",
      "6 2024-05-16 09:28:34.057154  \n",
      "7 2024-05-16 09:28:34.057154  \n",
      "8 2024-05-16 09:28:34.066153  \n",
      "9 2024-05-16 09:28:34.066153  \n"
     ]
    },
    {
     "name": "stderr",
     "output_type": "stream",
     "text": [
      "/var/folders/7j/14w0z0qn05bcyhqp46vg7s240000gn/T/ipykernel_2078/1182642039.py:35: FutureWarning: The frame.append method is deprecated and will be removed from pandas in a future version. Use pandas.concat instead.\n",
      "  processed_data = processed_data.append(entry, ignore_index=True)\n",
      "/var/folders/7j/14w0z0qn05bcyhqp46vg7s240000gn/T/ipykernel_2078/1182642039.py:35: FutureWarning: The frame.append method is deprecated and will be removed from pandas in a future version. Use pandas.concat instead.\n",
      "  processed_data = processed_data.append(entry, ignore_index=True)\n",
      "/var/folders/7j/14w0z0qn05bcyhqp46vg7s240000gn/T/ipykernel_2078/1182642039.py:35: FutureWarning: The frame.append method is deprecated and will be removed from pandas in a future version. Use pandas.concat instead.\n",
      "  processed_data = processed_data.append(entry, ignore_index=True)\n",
      "/var/folders/7j/14w0z0qn05bcyhqp46vg7s240000gn/T/ipykernel_2078/1182642039.py:35: FutureWarning: The frame.append method is deprecated and will be removed from pandas in a future version. Use pandas.concat instead.\n",
      "  processed_data = processed_data.append(entry, ignore_index=True)\n",
      "/var/folders/7j/14w0z0qn05bcyhqp46vg7s240000gn/T/ipykernel_2078/1182642039.py:35: FutureWarning: The frame.append method is deprecated and will be removed from pandas in a future version. Use pandas.concat instead.\n",
      "  processed_data = processed_data.append(entry, ignore_index=True)\n",
      "/var/folders/7j/14w0z0qn05bcyhqp46vg7s240000gn/T/ipykernel_2078/1182642039.py:35: FutureWarning: The frame.append method is deprecated and will be removed from pandas in a future version. Use pandas.concat instead.\n",
      "  processed_data = processed_data.append(entry, ignore_index=True)\n",
      "/var/folders/7j/14w0z0qn05bcyhqp46vg7s240000gn/T/ipykernel_2078/1182642039.py:35: FutureWarning: The frame.append method is deprecated and will be removed from pandas in a future version. Use pandas.concat instead.\n",
      "  processed_data = processed_data.append(entry, ignore_index=True)\n",
      "/var/folders/7j/14w0z0qn05bcyhqp46vg7s240000gn/T/ipykernel_2078/1182642039.py:35: FutureWarning: The frame.append method is deprecated and will be removed from pandas in a future version. Use pandas.concat instead.\n",
      "  processed_data = processed_data.append(entry, ignore_index=True)\n",
      "/var/folders/7j/14w0z0qn05bcyhqp46vg7s240000gn/T/ipykernel_2078/1182642039.py:35: FutureWarning: The frame.append method is deprecated and will be removed from pandas in a future version. Use pandas.concat instead.\n",
      "  processed_data = processed_data.append(entry, ignore_index=True)\n",
      "/var/folders/7j/14w0z0qn05bcyhqp46vg7s240000gn/T/ipykernel_2078/1182642039.py:35: FutureWarning: The frame.append method is deprecated and will be removed from pandas in a future version. Use pandas.concat instead.\n",
      "  processed_data = processed_data.append(entry, ignore_index=True)\n",
      "/var/folders/7j/14w0z0qn05bcyhqp46vg7s240000gn/T/ipykernel_2078/1182642039.py:35: FutureWarning: The frame.append method is deprecated and will be removed from pandas in a future version. Use pandas.concat instead.\n",
      "  processed_data = processed_data.append(entry, ignore_index=True)\n",
      "/var/folders/7j/14w0z0qn05bcyhqp46vg7s240000gn/T/ipykernel_2078/1182642039.py:35: FutureWarning: The frame.append method is deprecated and will be removed from pandas in a future version. Use pandas.concat instead.\n",
      "  processed_data = processed_data.append(entry, ignore_index=True)\n",
      "/var/folders/7j/14w0z0qn05bcyhqp46vg7s240000gn/T/ipykernel_2078/1182642039.py:35: FutureWarning: The frame.append method is deprecated and will be removed from pandas in a future version. Use pandas.concat instead.\n",
      "  processed_data = processed_data.append(entry, ignore_index=True)\n",
      "/var/folders/7j/14w0z0qn05bcyhqp46vg7s240000gn/T/ipykernel_2078/1182642039.py:35: FutureWarning: The frame.append method is deprecated and will be removed from pandas in a future version. Use pandas.concat instead.\n",
      "  processed_data = processed_data.append(entry, ignore_index=True)\n",
      "/var/folders/7j/14w0z0qn05bcyhqp46vg7s240000gn/T/ipykernel_2078/1182642039.py:35: FutureWarning: The frame.append method is deprecated and will be removed from pandas in a future version. Use pandas.concat instead.\n",
      "  processed_data = processed_data.append(entry, ignore_index=True)\n",
      "/var/folders/7j/14w0z0qn05bcyhqp46vg7s240000gn/T/ipykernel_2078/1182642039.py:35: FutureWarning: The frame.append method is deprecated and will be removed from pandas in a future version. Use pandas.concat instead.\n",
      "  processed_data = processed_data.append(entry, ignore_index=True)\n",
      "/var/folders/7j/14w0z0qn05bcyhqp46vg7s240000gn/T/ipykernel_2078/1182642039.py:58: SettingWithCopyWarning: \n",
      "A value is trying to be set on a copy of a slice from a DataFrame\n",
      "\n",
      "See the caveats in the documentation: https://pandas.pydata.org/pandas-docs/stable/user_guide/indexing.html#returning-a-view-versus-a-copy\n",
      "  latest_data.sort_values(by='symbol', inplace=True)\n"
     ]
    }
   ],
   "source": [
    "su = SymbolsUpdate()\n",
    "new_data = su.load_new_data_from_file('symbols_update_1.csv')\n",
    "su.save_new_data(new_data)\n",
    "new_data = su.load_new_data_from_file('symbols_update_2.csv')\n",
    "su.save_new_data(new_data)\n",
    "new_data = su.load_new_data_from_file('symbols_update_3.csv')\n",
    "su.save_new_data(new_data)\n",
    "\n",
    "# su.display_database_contents() # Present all content of database.csv\n",
    "latest_data = su.get_data_from_database() # Present latest updated content of database.csv\n",
    "print(latest_data)"
   ],
   "metadata": {
    "collapsed": false,
    "ExecuteTime": {
     "end_time": "2024-05-16T13:28:34.079528Z",
     "start_time": "2024-05-16T13:28:34.016184Z"
    }
   },
   "id": "44fb730fdf55b385"
  },
  {
   "cell_type": "markdown",
   "source": [
    "Screenshot of output: "
   ],
   "metadata": {
    "collapsed": false
   },
   "id": "505f9ecdd2142d2"
  },
  {
   "cell_type": "markdown",
   "source": [
    "![outcome](outcome.png)"
   ],
   "metadata": {
    "collapsed": false
   },
   "id": "8a8519b9201e7c9e"
  }
 ],
 "metadata": {
  "kernelspec": {
   "display_name": "Python 3",
   "language": "python",
   "name": "python3"
  },
  "language_info": {
   "codemirror_mode": {
    "name": "ipython",
    "version": 2
   },
   "file_extension": ".py",
   "mimetype": "text/x-python",
   "name": "python",
   "nbconvert_exporter": "python",
   "pygments_lexer": "ipython2",
   "version": "2.7.6"
  }
 },
 "nbformat": 4,
 "nbformat_minor": 5
}
